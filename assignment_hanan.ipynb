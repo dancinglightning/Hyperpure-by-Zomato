{
 "cells": [
  {
   "cell_type": "code",
   "execution_count": 1,
   "metadata": {},
   "outputs": [
    {
     "name": "stdout",
     "output_type": "stream",
     "text": [
      "Sample of random data:\n",
      "                 date  transaction_id  user_id  transaction_amount\n",
      "0 2024-01-01 00:00:00               0      103          493.140521\n",
      "1 2024-01-01 00:10:00               1      436          379.155311\n",
      "2 2024-01-01 00:20:00               2      861          194.367197\n",
      "3 2024-01-01 00:30:00               3      271           50.915351\n",
      "4 2024-01-01 00:40:00               4      107          390.801989\n",
      "\n",
      "Dataset shape: (865, 4)\n",
      "\n",
      "Data overview:\n",
      "<class 'pandas.core.frame.DataFrame'>\n",
      "RangeIndex: 865 entries, 0 to 864\n",
      "Data columns (total 4 columns):\n",
      " #   Column              Non-Null Count  Dtype         \n",
      "---  ------              --------------  -----         \n",
      " 0   date                865 non-null    datetime64[ns]\n",
      " 1   transaction_id      865 non-null    int64         \n",
      " 2   user_id             865 non-null    int32         \n",
      " 3   transaction_amount  865 non-null    float64       \n",
      "dtypes: datetime64[ns](1), float64(1), int32(1), int64(1)\n",
      "memory usage: 23.8 KB\n"
     ]
    }
   ],
   "source": [
    "import pandas as pd\n",
    "import numpy as np\n",
    "from datetime import datetime, timedelta\n",
    "\n",
    "# make fake data\n",
    "np.random.seed(42)  # for reproducibility \n",
    "dates = pd.date_range('2024-01-01', '2024-01-07', freq='10min')  # week of data\n",
    "df = pd.DataFrame({\n",
    "    'date': dates,\n",
    "    'transaction_id': range(len(dates)),\n",
    "    'user_id': np.random.randint(1, 1000, len(dates)),\n",
    "    'transaction_amount': np.random.uniform(10, 500, len(dates))\n",
    "})\n",
    "\n",
    "# show sample of raw data\n",
    "print('Sample of random data:')\n",
    "print(df.head())\n",
    "print('\\nDataset shape:', df.shape)\n",
    "print('\\nData overview:')\n",
    "df.info()"
   ]
  },
  {
   "cell_type": "code",
   "execution_count": 2,
   "metadata": {},
   "outputs": [
    {
     "name": "stdout",
     "output_type": "stream",
     "text": [
      "Hourly stats sample:\n",
      "                 hour  transaction_id  user_id  transaction_amount\n",
      "0 2024-01-01 00:00:00               6        6         1791.998451\n",
      "1 2024-01-01 01:00:00               6        6         1243.062501\n",
      "2 2024-01-01 02:00:00               6        6         1172.922979\n",
      "3 2024-01-01 03:00:00               6        6         1862.304633\n",
      "4 2024-01-01 04:00:00               6        6         1744.131094\n",
      "\n",
      "Stats summary:\n",
      "                      hour  transaction_id     user_id  transaction_amount\n",
      "count                  145      145.000000  145.000000          145.000000\n",
      "mean   2024-01-04 00:00:00        5.965517    5.958621         1513.854150\n",
      "min    2024-01-01 00:00:00        1.000000    1.000000           49.256275\n",
      "25%    2024-01-02 12:00:00        6.000000    6.000000         1290.180379\n",
      "50%    2024-01-04 00:00:00        6.000000    6.000000         1554.227941\n",
      "75%    2024-01-05 12:00:00        6.000000    6.000000         1782.293333\n",
      "max    2024-01-07 00:00:00        6.000000    6.000000         2548.435781\n",
      "std                    NaN        0.415227    0.422885          396.700554\n"
     ]
    }
   ],
   "source": [
    "# prep datetime stuff\n",
    "df['hour'] = df['date'].dt.floor('h')  # round to hour\n",
    "\n",
    "# get hourly stats\n",
    "stats = df.groupby('hour').agg({\n",
    "    'transaction_id': 'nunique',  # unique txns\n",
    "    'user_id': 'nunique',         # unique users\n",
    "    'transaction_amount': 'sum'    # total $\n",
    "}).reset_index()\n",
    "\n",
    "print('Hourly stats sample:')\n",
    "print(stats.head())\n",
    "print('\\nStats summary:')\n",
    "print(stats.describe())"
   ]
  },
  {
   "cell_type": "code",
   "execution_count": 3,
   "metadata": {},
   "outputs": [
    {
     "name": "stdout",
     "output_type": "stream",
     "text": [
      "Peak hours by day:\n",
      "                   date                hour  transaction_amount\n",
      "0   2024-01-01 00:00:00 2024-01-01 00:00:00          493.140521\n",
      "1   2024-01-01 00:10:00 2024-01-01 00:00:00          379.155311\n",
      "2   2024-01-01 00:20:00 2024-01-01 00:00:00          194.367197\n",
      "3   2024-01-01 00:30:00 2024-01-01 00:00:00           50.915351\n",
      "4   2024-01-01 00:40:00 2024-01-01 00:00:00          390.801989\n",
      "..                  ...                 ...                 ...\n",
      "860 2024-01-06 23:20:00 2024-01-06 23:00:00          359.902597\n",
      "861 2024-01-06 23:30:00 2024-01-06 23:00:00          402.846761\n",
      "862 2024-01-06 23:40:00 2024-01-06 23:00:00          176.330594\n",
      "863 2024-01-06 23:50:00 2024-01-06 23:00:00          409.264306\n",
      "864 2024-01-07 00:00:00 2024-01-07 00:00:00           49.256275\n",
      "\n",
      "[865 rows x 3 columns]\n",
      "\n",
      "Peak hour stats:\n",
      "Average peak hour amount: $253.77\n",
      "Most common peak hour: 0:00\n"
     ]
    }
   ],
   "source": [
    "# find peak hour each day\n",
    "peaks = df.groupby(['date', 'hour'])['transaction_amount'].sum().reset_index()\n",
    "best_hours = peaks.loc[peaks.groupby('date')['transaction_amount'].idxmax()]\n",
    "\n",
    "print('Peak hours by day:')\n",
    "print(best_hours)\n",
    "\n",
    "# quick stats about peaks\n",
    "print('\\nPeak hour stats:')\n",
    "print(f\"Average peak hour amount: ${best_hours['transaction_amount'].mean():.2f}\")\n",
    "print(f\"Most common peak hour: {best_hours['hour'].dt.hour.mode().iloc[0]}:00\")"
   ]
  }
 ],
 "metadata": {
  "kernelspec": {
   "display_name": "Python 3",
   "language": "python",
   "name": "python3"
  },
  "language_info": {
   "codemirror_mode": {
    "name": "ipython",
    "version": 3
   },
   "file_extension": ".py",
   "mimetype": "text/x-python",
   "name": "python",
   "nbconvert_exporter": "python",
   "pygments_lexer": "ipython3",
   "version": "3.12.6"
  }
 },
 "nbformat": 4,
 "nbformat_minor": 4
}
